{
 "cells": [
  {
   "cell_type": "code",
   "execution_count": 1,
   "metadata": {},
   "outputs": [],
   "source": [
    "import xarray as xr\n",
    "import ocf_blosc2\n",
    "import pandas as pd\n",
    "import warnings\n",
    "warnings.filterwarnings(\"ignore\")\n",
    "from pytorch_forecasting import TimeSeriesDataSet, TemporalFusionTransformer, Baseline\n",
    "from pytorch_forecasting.data import GroupNormalizer\n",
    "from pytorch_forecasting.metrics import QuantileLoss\n",
    "from pytorch_lightning import Trainer\n"
   ]
  },
  {
   "cell_type": "code",
   "execution_count": 2,
   "metadata": {},
   "outputs": [],
   "source": [
    "forecast_data = pd.read_csv(\"result_data/final_data_tft2.csv\")\n",
    "forecast_data = forecast_data.drop(columns=['Unnamed: 0'])\n",
    "forecast_data = forecast_data.sort_values(['ss_id', 'pv_datetime'])\n",
    "forecast_data['ss_id'] = forecast_data['ss_id'].astype(str)\n",
    "forecast_data['pv_datetime'] = pd.to_datetime(forecast_data['pv_datetime'])\n",
    "forecast_data['date'] = forecast_data['pv_datetime'].dt.date\n",
    "forecast_data['day_of_week'] = forecast_data['pv_datetime'].dt.dayofweek\n",
    "forecast_data['month'] = forecast_data['pv_datetime'].dt.month\n"
   ]
  },
  {
   "cell_type": "code",
   "execution_count": 3,
   "metadata": {},
   "outputs": [
    {
     "data": {
      "text/html": [
       "<div>\n",
       "<style scoped>\n",
       "    .dataframe tbody tr th:only-of-type {\n",
       "        vertical-align: middle;\n",
       "    }\n",
       "\n",
       "    .dataframe tbody tr th {\n",
       "        vertical-align: top;\n",
       "    }\n",
       "\n",
       "    .dataframe thead th {\n",
       "        text-align: right;\n",
       "    }\n",
       "</style>\n",
       "<table border=\"1\" class=\"dataframe\">\n",
       "  <thead>\n",
       "    <tr style=\"text-align: right;\">\n",
       "      <th></th>\n",
       "      <th>ss_id</th>\n",
       "      <th>init_time</th>\n",
       "      <th>step</th>\n",
       "      <th>generation</th>\n",
       "      <th>pv_datetime</th>\n",
       "      <th>pv_hour</th>\n",
       "      <th>hour</th>\n",
       "      <th>lat</th>\n",
       "      <th>long</th>\n",
       "      <th>tilt</th>\n",
       "      <th>...</th>\n",
       "      <th>sr</th>\n",
       "      <th>t2m</th>\n",
       "      <th>tcc</th>\n",
       "      <th>u10</th>\n",
       "      <th>u100</th>\n",
       "      <th>v10</th>\n",
       "      <th>v100</th>\n",
       "      <th>date</th>\n",
       "      <th>day_of_week</th>\n",
       "      <th>month</th>\n",
       "    </tr>\n",
       "  </thead>\n",
       "  <tbody>\n",
       "    <tr>\n",
       "      <th>6293</th>\n",
       "      <td>3147</td>\n",
       "      <td>2019-03-17 00:00:00</td>\n",
       "      <td>0 days 18:00:00</td>\n",
       "      <td>1.069375e-10</td>\n",
       "      <td>2019-03-16 18:00:00</td>\n",
       "      <td>18</td>\n",
       "      <td>1</td>\n",
       "      <td>51.12</td>\n",
       "      <td>-0.02</td>\n",
       "      <td>40.0</td>\n",
       "      <td>...</td>\n",
       "      <td>21856324.0</td>\n",
       "      <td>279.14966</td>\n",
       "      <td>0.121735</td>\n",
       "      <td>5.416376</td>\n",
       "      <td>9.102982</td>\n",
       "      <td>-0.231537</td>\n",
       "      <td>-0.851471</td>\n",
       "      <td>2019-03-16</td>\n",
       "      <td>5</td>\n",
       "      <td>3</td>\n",
       "    </tr>\n",
       "    <tr>\n",
       "      <th>6294</th>\n",
       "      <td>3147</td>\n",
       "      <td>2019-03-17 00:00:00</td>\n",
       "      <td>0 days 19:00:00</td>\n",
       "      <td>0.000000e+00</td>\n",
       "      <td>2019-03-16 19:00:00</td>\n",
       "      <td>19</td>\n",
       "      <td>2</td>\n",
       "      <td>51.12</td>\n",
       "      <td>-0.02</td>\n",
       "      <td>40.0</td>\n",
       "      <td>...</td>\n",
       "      <td>21863492.0</td>\n",
       "      <td>277.78784</td>\n",
       "      <td>0.001434</td>\n",
       "      <td>4.447694</td>\n",
       "      <td>7.998607</td>\n",
       "      <td>0.227203</td>\n",
       "      <td>-0.140961</td>\n",
       "      <td>2019-03-16</td>\n",
       "      <td>5</td>\n",
       "      <td>3</td>\n",
       "    </tr>\n",
       "    <tr>\n",
       "      <th>6295</th>\n",
       "      <td>3147</td>\n",
       "      <td>2019-03-17 00:00:00</td>\n",
       "      <td>0 days 20:00:00</td>\n",
       "      <td>0.000000e+00</td>\n",
       "      <td>2019-03-16 20:00:00</td>\n",
       "      <td>20</td>\n",
       "      <td>3</td>\n",
       "      <td>51.12</td>\n",
       "      <td>-0.02</td>\n",
       "      <td>40.0</td>\n",
       "      <td>...</td>\n",
       "      <td>21863492.0</td>\n",
       "      <td>276.78490</td>\n",
       "      <td>0.441833</td>\n",
       "      <td>4.002581</td>\n",
       "      <td>7.498468</td>\n",
       "      <td>0.140137</td>\n",
       "      <td>-0.432358</td>\n",
       "      <td>2019-03-16</td>\n",
       "      <td>5</td>\n",
       "      <td>3</td>\n",
       "    </tr>\n",
       "    <tr>\n",
       "      <th>6296</th>\n",
       "      <td>3147</td>\n",
       "      <td>2019-03-17 00:00:00</td>\n",
       "      <td>0 days 21:00:00</td>\n",
       "      <td>0.000000e+00</td>\n",
       "      <td>2019-03-16 21:00:00</td>\n",
       "      <td>21</td>\n",
       "      <td>4</td>\n",
       "      <td>51.12</td>\n",
       "      <td>-0.02</td>\n",
       "      <td>40.0</td>\n",
       "      <td>...</td>\n",
       "      <td>21863492.0</td>\n",
       "      <td>276.85815</td>\n",
       "      <td>0.721863</td>\n",
       "      <td>3.675459</td>\n",
       "      <td>6.809860</td>\n",
       "      <td>-0.478973</td>\n",
       "      <td>-1.726532</td>\n",
       "      <td>2019-03-16</td>\n",
       "      <td>5</td>\n",
       "      <td>3</td>\n",
       "    </tr>\n",
       "    <tr>\n",
       "      <th>6297</th>\n",
       "      <td>3147</td>\n",
       "      <td>2019-03-17 00:00:00</td>\n",
       "      <td>0 days 22:00:00</td>\n",
       "      <td>0.000000e+00</td>\n",
       "      <td>2019-03-16 22:00:00</td>\n",
       "      <td>22</td>\n",
       "      <td>5</td>\n",
       "      <td>51.12</td>\n",
       "      <td>-0.02</td>\n",
       "      <td>40.0</td>\n",
       "      <td>...</td>\n",
       "      <td>21863492.0</td>\n",
       "      <td>277.41187</td>\n",
       "      <td>0.018034</td>\n",
       "      <td>3.383099</td>\n",
       "      <td>6.230782</td>\n",
       "      <td>-1.177109</td>\n",
       "      <td>-2.980850</td>\n",
       "      <td>2019-03-16</td>\n",
       "      <td>5</td>\n",
       "      <td>3</td>\n",
       "    </tr>\n",
       "  </tbody>\n",
       "</table>\n",
       "<p>5 rows × 28 columns</p>\n",
       "</div>"
      ],
      "text/plain": [
       "     ss_id            init_time             step    generation  \\\n",
       "6293  3147  2019-03-17 00:00:00  0 days 18:00:00  1.069375e-10   \n",
       "6294  3147  2019-03-17 00:00:00  0 days 19:00:00  0.000000e+00   \n",
       "6295  3147  2019-03-17 00:00:00  0 days 20:00:00  0.000000e+00   \n",
       "6296  3147  2019-03-17 00:00:00  0 days 21:00:00  0.000000e+00   \n",
       "6297  3147  2019-03-17 00:00:00  0 days 22:00:00  0.000000e+00   \n",
       "\n",
       "             pv_datetime  pv_hour  hour    lat  long  tilt  ...          sr  \\\n",
       "6293 2019-03-16 18:00:00       18     1  51.12 -0.02  40.0  ...  21856324.0   \n",
       "6294 2019-03-16 19:00:00       19     2  51.12 -0.02  40.0  ...  21863492.0   \n",
       "6295 2019-03-16 20:00:00       20     3  51.12 -0.02  40.0  ...  21863492.0   \n",
       "6296 2019-03-16 21:00:00       21     4  51.12 -0.02  40.0  ...  21863492.0   \n",
       "6297 2019-03-16 22:00:00       22     5  51.12 -0.02  40.0  ...  21863492.0   \n",
       "\n",
       "            t2m       tcc       u10      u100       v10      v100        date  \\\n",
       "6293  279.14966  0.121735  5.416376  9.102982 -0.231537 -0.851471  2019-03-16   \n",
       "6294  277.78784  0.001434  4.447694  7.998607  0.227203 -0.140961  2019-03-16   \n",
       "6295  276.78490  0.441833  4.002581  7.498468  0.140137 -0.432358  2019-03-16   \n",
       "6296  276.85815  0.721863  3.675459  6.809860 -0.478973 -1.726532  2019-03-16   \n",
       "6297  277.41187  0.018034  3.383099  6.230782 -1.177109 -2.980850  2019-03-16   \n",
       "\n",
       "      day_of_week  month  \n",
       "6293            5      3  \n",
       "6294            5      3  \n",
       "6295            5      3  \n",
       "6296            5      3  \n",
       "6297            5      3  \n",
       "\n",
       "[5 rows x 28 columns]"
      ]
     },
     "execution_count": 3,
     "metadata": {},
     "output_type": "execute_result"
    }
   ],
   "source": [
    "forecast_data.head()"
   ]
  },
  {
   "cell_type": "code",
   "execution_count": 4,
   "metadata": {},
   "outputs": [
    {
     "data": {
      "text/plain": [
       "Index(['ss_id', 'init_time', 'step', 'generation', 'pv_datetime', 'pv_hour',\n",
       "       'hour', 'lat', 'long', 'tilt', 'orientation', 'dlwrf', 'dswrf', 'duvrs',\n",
       "       'hcc', 'lcc', 'mcc', 'sde', 'sr', 't2m', 'tcc', 'u10', 'u100', 'v10',\n",
       "       'v100', 'date', 'day_of_week', 'month'],\n",
       "      dtype='object')"
      ]
     },
     "execution_count": 4,
     "metadata": {},
     "output_type": "execute_result"
    }
   ],
   "source": [
    "forecast_data.columns"
   ]
  },
  {
   "cell_type": "code",
   "execution_count": 6,
   "metadata": {},
   "outputs": [],
   "source": [
    "target_variable = 'generation'\n",
    "static_features = ['ss_id', 'lat', 'long', 'tilt', 'orientation']\n",
    "known_future_inputs = [\n",
    "    'dlwrf', 'dswrf', 'duvrs', 'hcc', 'lcc', 'mcc', 'sde', 'sr', \n",
    "    't2m', 'tcc', 'u10', 'u100', 'v10', 'v100', 'day_of_week', 'month', 'hour'\n",
    "]\n",
    "\n",
    "required_columns = static_features + known_future_inputs + [target_variable, 'pv_datetime', 'date']\n",
    "\n",
    "forecast_data = forecast_data[required_columns]\n",
    "\n",
    "forecast_data = forecast_data.fillna(method='bfill').fillna(method='ffill')\n",
    "\n",
    "forecast_data['time_idx'] = forecast_data['pv_datetime'].astype('int64') // 10**9  # Convert to seconds since epoch\n"
   ]
  },
  {
   "cell_type": "code",
   "execution_count": 7,
   "metadata": {},
   "outputs": [
    {
     "name": "stdout",
     "output_type": "stream",
     "text": [
      "Index(['ss_id', 'lat', 'long', 'tilt', 'orientation', 'dlwrf', 'dswrf',\n",
      "       'duvrs', 'hcc', 'lcc', 'mcc', 'sde', 'sr', 't2m', 'tcc', 'u10', 'u100',\n",
      "       'v10', 'v100', 'day_of_week', 'month', 'hour', 'generation',\n",
      "       'pv_datetime', 'date', 'time_idx'],\n",
      "      dtype='object')\n"
     ]
    }
   ],
   "source": [
    "print(forecast_data.columns)"
   ]
  },
  {
   "cell_type": "code",
   "execution_count": 8,
   "metadata": {},
   "outputs": [
    {
     "data": {
      "text/html": [
       "<div>\n",
       "<style scoped>\n",
       "    .dataframe tbody tr th:only-of-type {\n",
       "        vertical-align: middle;\n",
       "    }\n",
       "\n",
       "    .dataframe tbody tr th {\n",
       "        vertical-align: top;\n",
       "    }\n",
       "\n",
       "    .dataframe thead th {\n",
       "        text-align: right;\n",
       "    }\n",
       "</style>\n",
       "<table border=\"1\" class=\"dataframe\">\n",
       "  <thead>\n",
       "    <tr style=\"text-align: right;\">\n",
       "      <th></th>\n",
       "      <th>ss_id</th>\n",
       "      <th>lat</th>\n",
       "      <th>long</th>\n",
       "      <th>tilt</th>\n",
       "      <th>orientation</th>\n",
       "      <th>dlwrf</th>\n",
       "      <th>dswrf</th>\n",
       "      <th>duvrs</th>\n",
       "      <th>hcc</th>\n",
       "      <th>lcc</th>\n",
       "      <th>...</th>\n",
       "      <th>u100</th>\n",
       "      <th>v10</th>\n",
       "      <th>v100</th>\n",
       "      <th>day_of_week</th>\n",
       "      <th>month</th>\n",
       "      <th>hour</th>\n",
       "      <th>generation</th>\n",
       "      <th>pv_datetime</th>\n",
       "      <th>date</th>\n",
       "      <th>time_idx</th>\n",
       "    </tr>\n",
       "  </thead>\n",
       "  <tbody>\n",
       "    <tr>\n",
       "      <th>6293</th>\n",
       "      <td>3147</td>\n",
       "      <td>51.12</td>\n",
       "      <td>-0.02</td>\n",
       "      <td>40.0</td>\n",
       "      <td>180.0</td>\n",
       "      <td>17286896.0</td>\n",
       "      <td>14154521.0</td>\n",
       "      <td>1444081.8</td>\n",
       "      <td>0.0</td>\n",
       "      <td>0.103668</td>\n",
       "      <td>...</td>\n",
       "      <td>9.102982</td>\n",
       "      <td>-0.231537</td>\n",
       "      <td>-0.851471</td>\n",
       "      <td>5</td>\n",
       "      <td>3</td>\n",
       "      <td>1</td>\n",
       "      <td>1.069375e-10</td>\n",
       "      <td>2019-03-16 18:00:00</td>\n",
       "      <td>2019-03-16</td>\n",
       "      <td>1552759200</td>\n",
       "    </tr>\n",
       "    <tr>\n",
       "      <th>6294</th>\n",
       "      <td>3147</td>\n",
       "      <td>51.12</td>\n",
       "      <td>-0.02</td>\n",
       "      <td>40.0</td>\n",
       "      <td>180.0</td>\n",
       "      <td>18194266.0</td>\n",
       "      <td>14154777.0</td>\n",
       "      <td>1444113.8</td>\n",
       "      <td>0.0</td>\n",
       "      <td>0.001434</td>\n",
       "      <td>...</td>\n",
       "      <td>7.998607</td>\n",
       "      <td>0.227203</td>\n",
       "      <td>-0.140961</td>\n",
       "      <td>5</td>\n",
       "      <td>3</td>\n",
       "      <td>2</td>\n",
       "      <td>0.000000e+00</td>\n",
       "      <td>2019-03-16 19:00:00</td>\n",
       "      <td>2019-03-16</td>\n",
       "      <td>1552762800</td>\n",
       "    </tr>\n",
       "    <tr>\n",
       "      <th>6295</th>\n",
       "      <td>3147</td>\n",
       "      <td>51.12</td>\n",
       "      <td>-0.02</td>\n",
       "      <td>40.0</td>\n",
       "      <td>180.0</td>\n",
       "      <td>19073552.0</td>\n",
       "      <td>14154777.0</td>\n",
       "      <td>1444113.8</td>\n",
       "      <td>0.0</td>\n",
       "      <td>0.441833</td>\n",
       "      <td>...</td>\n",
       "      <td>7.498468</td>\n",
       "      <td>0.140137</td>\n",
       "      <td>-0.432358</td>\n",
       "      <td>5</td>\n",
       "      <td>3</td>\n",
       "      <td>3</td>\n",
       "      <td>0.000000e+00</td>\n",
       "      <td>2019-03-16 20:00:00</td>\n",
       "      <td>2019-03-16</td>\n",
       "      <td>1552766400</td>\n",
       "    </tr>\n",
       "    <tr>\n",
       "      <th>6296</th>\n",
       "      <td>3147</td>\n",
       "      <td>51.12</td>\n",
       "      <td>-0.02</td>\n",
       "      <td>40.0</td>\n",
       "      <td>180.0</td>\n",
       "      <td>20026864.0</td>\n",
       "      <td>14154777.0</td>\n",
       "      <td>1444113.8</td>\n",
       "      <td>0.0</td>\n",
       "      <td>0.721863</td>\n",
       "      <td>...</td>\n",
       "      <td>6.809860</td>\n",
       "      <td>-0.478973</td>\n",
       "      <td>-1.726532</td>\n",
       "      <td>5</td>\n",
       "      <td>3</td>\n",
       "      <td>4</td>\n",
       "      <td>0.000000e+00</td>\n",
       "      <td>2019-03-16 21:00:00</td>\n",
       "      <td>2019-03-16</td>\n",
       "      <td>1552770000</td>\n",
       "    </tr>\n",
       "    <tr>\n",
       "      <th>6297</th>\n",
       "      <td>3147</td>\n",
       "      <td>51.12</td>\n",
       "      <td>-0.02</td>\n",
       "      <td>40.0</td>\n",
       "      <td>180.0</td>\n",
       "      <td>21029888.0</td>\n",
       "      <td>14154777.0</td>\n",
       "      <td>1444113.8</td>\n",
       "      <td>0.0</td>\n",
       "      <td>0.018005</td>\n",
       "      <td>...</td>\n",
       "      <td>6.230782</td>\n",
       "      <td>-1.177109</td>\n",
       "      <td>-2.980850</td>\n",
       "      <td>5</td>\n",
       "      <td>3</td>\n",
       "      <td>5</td>\n",
       "      <td>0.000000e+00</td>\n",
       "      <td>2019-03-16 22:00:00</td>\n",
       "      <td>2019-03-16</td>\n",
       "      <td>1552773600</td>\n",
       "    </tr>\n",
       "  </tbody>\n",
       "</table>\n",
       "<p>5 rows × 26 columns</p>\n",
       "</div>"
      ],
      "text/plain": [
       "     ss_id    lat  long  tilt  orientation       dlwrf       dswrf      duvrs  \\\n",
       "6293  3147  51.12 -0.02  40.0        180.0  17286896.0  14154521.0  1444081.8   \n",
       "6294  3147  51.12 -0.02  40.0        180.0  18194266.0  14154777.0  1444113.8   \n",
       "6295  3147  51.12 -0.02  40.0        180.0  19073552.0  14154777.0  1444113.8   \n",
       "6296  3147  51.12 -0.02  40.0        180.0  20026864.0  14154777.0  1444113.8   \n",
       "6297  3147  51.12 -0.02  40.0        180.0  21029888.0  14154777.0  1444113.8   \n",
       "\n",
       "      hcc       lcc  ...      u100       v10      v100  day_of_week  month  \\\n",
       "6293  0.0  0.103668  ...  9.102982 -0.231537 -0.851471            5      3   \n",
       "6294  0.0  0.001434  ...  7.998607  0.227203 -0.140961            5      3   \n",
       "6295  0.0  0.441833  ...  7.498468  0.140137 -0.432358            5      3   \n",
       "6296  0.0  0.721863  ...  6.809860 -0.478973 -1.726532            5      3   \n",
       "6297  0.0  0.018005  ...  6.230782 -1.177109 -2.980850            5      3   \n",
       "\n",
       "      hour    generation         pv_datetime        date    time_idx  \n",
       "6293     1  1.069375e-10 2019-03-16 18:00:00  2019-03-16  1552759200  \n",
       "6294     2  0.000000e+00 2019-03-16 19:00:00  2019-03-16  1552762800  \n",
       "6295     3  0.000000e+00 2019-03-16 20:00:00  2019-03-16  1552766400  \n",
       "6296     4  0.000000e+00 2019-03-16 21:00:00  2019-03-16  1552770000  \n",
       "6297     5  0.000000e+00 2019-03-16 22:00:00  2019-03-16  1552773600  \n",
       "\n",
       "[5 rows x 26 columns]"
      ]
     },
     "execution_count": 8,
     "metadata": {},
     "output_type": "execute_result"
    }
   ],
   "source": [
    "forecast_data.head()"
   ]
  },
  {
   "cell_type": "code",
   "execution_count": 9,
   "metadata": {},
   "outputs": [],
   "source": [
    "# forecast_data.to_csv(\"test2.csv\")"
   ]
  },
  {
   "cell_type": "code",
   "execution_count": 10,
   "metadata": {},
   "outputs": [],
   "source": [
    "max_encoder_length = 36\n",
    "max_prediction_length = 36"
   ]
  },
  {
   "cell_type": "code",
   "execution_count": 11,
   "metadata": {},
   "outputs": [],
   "source": [
    "# keep it continous\n",
    "# let's just do 36 hours\n",
    "# check the minimum, 36, if not remove it. \n",
    "# init time 2 adjacent values has 12 hours gap. \n",
    "# use only 36 steps\n",
    "# even if nwp data is missing, it is fine to give nans. model will learn\n",
    "# start with 36 hours forecast\n",
    "# select a lot from pv, get rid of nans, and get it for training for next steps\n",
    "\n",
    "# pick one specific datetime , make a graph, one forecast batch, look what clouds are doing, what generation is like, "
   ]
  },
  {
   "cell_type": "code",
   "execution_count": 12,
   "metadata": {},
   "outputs": [],
   "source": [
    "training_cutoff = forecast_data[\"pv_datetime\"].max() - pd.Timedelta(hours=max_prediction_length)\n"
   ]
  },
  {
   "cell_type": "code",
   "execution_count": 13,
   "metadata": {},
   "outputs": [
    {
     "data": {
      "text/plain": [
       "Timestamp('2021-10-25 23:00:00')"
      ]
     },
     "execution_count": 13,
     "metadata": {},
     "output_type": "execute_result"
    }
   ],
   "source": [
    "training_cutoff"
   ]
  },
  {
   "cell_type": "code",
   "execution_count": 14,
   "metadata": {},
   "outputs": [
    {
     "name": "stdout",
     "output_type": "stream",
     "text": [
      "Number of rows in the training set: 9291\n",
      "(10149, 26)\n"
     ]
    }
   ],
   "source": [
    "training_data = forecast_data[forecast_data[\"pv_datetime\"] <= training_cutoff]\n",
    "num_training_rows = len(training_data)\n",
    "print(f\"Number of rows in the training set: {num_training_rows}\")\n",
    "print(forecast_data.shape)"
   ]
  },
  {
   "cell_type": "code",
   "execution_count": 15,
   "metadata": {},
   "outputs": [],
   "source": [
    "forecast_data['ss_id'] = forecast_data['ss_id'].astype(str)\n",
    "forecast_data['day_of_week'] = forecast_data['day_of_week'].astype(str)\n",
    "forecast_data['month'] = forecast_data['month'].astype(str)\n",
    "forecast_data['hour'] = forecast_data['hour'].astype(str)\n"
   ]
  },
  {
   "cell_type": "code",
   "execution_count": 16,
   "metadata": {},
   "outputs": [
    {
     "name": "stdout",
     "output_type": "stream",
     "text": [
      "Total rows in forecast_data: 10149\n",
      "Rows before training_cutoff: 9291\n",
      "Training cutoff datetime: 2021-10-25 23:00:00\n"
     ]
    }
   ],
   "source": [
    "print(\"Total rows in forecast_data:\", len(forecast_data))\n",
    "print(\"Rows before training_cutoff:\", len(forecast_data[forecast_data.pv_datetime <= training_cutoff]))\n",
    "print(\"Training cutoff datetime:\", training_cutoff)\n"
   ]
  },
  {
   "cell_type": "code",
   "execution_count": 17,
   "metadata": {},
   "outputs": [
    {
     "name": "stdout",
     "output_type": "stream",
     "text": [
      "Rows after filtering short and discontinuous sequences: 6192\n"
     ]
    }
   ],
   "source": [
    "# Function to check if sequence is continuous and of required length\n",
    "def is_continuous_block(df, block_size=48):\n",
    "    if len(df) != block_size:\n",
    "        return False\n",
    "    time_diffs = df['pv_datetime'].diff().dropna()\n",
    "    return all(time_diffs == pd.Timedelta(hours=1))\n",
    "\n",
    "# Filter sequences to ensure continuity and correct length\n",
    "filtered_data = []\n",
    "for ss_id, group in forecast_data.groupby('ss_id'):\n",
    "    for start_idx in range(0, len(group) - max_encoder_length + 1):\n",
    "        block = group.iloc[start_idx:start_idx + max_encoder_length]\n",
    "        if is_continuous_block(block, max_encoder_length):\n",
    "            filtered_data.append(block)\n",
    "\n",
    "filtered_data = pd.concat(filtered_data)\n",
    "print(\"Rows after filtering short and discontinuous sequences:\", len(filtered_data))\n"
   ]
  },
  {
   "cell_type": "code",
   "execution_count": 22,
   "metadata": {},
   "outputs": [
    {
     "name": "stdout",
     "output_type": "stream",
     "text": [
      "Unique longitudes in filtered data: [-1.36 -1.3  -2.4  -3.   -1.59 -1.13 -3.96 -4.03 -1.82 -2.76 -4.15 -2.8\n",
      " -2.96 -0.31 -0.23 -1.8  -0.02 -3.4  -2.56  0.62 -3.89  1.32 -0.17 -2.44\n",
      " -1.46 -0.19 -4.77  0.9  -5.56 -4.59 -1.11 -4.09 -2.52 -3.04 -4.08]\n",
      "35\n"
     ]
    }
   ],
   "source": [
    "unique_longitudes = filtered_data['long'].unique()\n",
    "print(\"Unique longitudes in filtered data:\", unique_longitudes)\n",
    "print(len(unique_longitudes))"
   ]
  },
  {
   "cell_type": "code",
   "execution_count": 19,
   "metadata": {},
   "outputs": [
    {
     "ename": "AssertionError",
     "evalue": "filters should not remove entries all entries - check encoder/decoder lengths and lags",
     "output_type": "error",
     "traceback": [
      "\u001b[0;31m---------------------------------------------------------------------------\u001b[0m",
      "\u001b[0;31mAssertionError\u001b[0m                            Traceback (most recent call last)",
      "Cell \u001b[0;32mIn[19], line 1\u001b[0m\n\u001b[0;32m----> 1\u001b[0m training \u001b[38;5;241m=\u001b[39m \u001b[43mTimeSeriesDataSet\u001b[49m\u001b[43m(\u001b[49m\n\u001b[1;32m      2\u001b[0m \u001b[43m    \u001b[49m\u001b[43mfiltered_data\u001b[49m\u001b[43m[\u001b[49m\u001b[38;5;28;43;01mlambda\u001b[39;49;00m\u001b[43m \u001b[49m\u001b[43mx\u001b[49m\u001b[43m:\u001b[49m\u001b[43m \u001b[49m\u001b[43mx\u001b[49m\u001b[38;5;241;43m.\u001b[39;49m\u001b[43mpv_datetime\u001b[49m\u001b[43m \u001b[49m\u001b[38;5;241;43m<\u001b[39;49m\u001b[38;5;241;43m=\u001b[39;49m\u001b[43m \u001b[49m\u001b[43mtraining_cutoff\u001b[49m\u001b[43m]\u001b[49m\u001b[43m,\u001b[49m\n\u001b[1;32m      3\u001b[0m \u001b[43m    \u001b[49m\u001b[43mtime_idx\u001b[49m\u001b[38;5;241;43m=\u001b[39;49m\u001b[38;5;124;43m\"\u001b[39;49m\u001b[38;5;124;43mtime_idx\u001b[39;49m\u001b[38;5;124;43m\"\u001b[39;49m\u001b[43m,\u001b[49m\n\u001b[1;32m      4\u001b[0m \u001b[43m    \u001b[49m\u001b[43mtarget\u001b[49m\u001b[38;5;241;43m=\u001b[39;49m\u001b[38;5;124;43m\"\u001b[39;49m\u001b[38;5;124;43mgeneration\u001b[39;49m\u001b[38;5;124;43m\"\u001b[39;49m\u001b[43m,\u001b[49m\n\u001b[1;32m      5\u001b[0m \u001b[43m    \u001b[49m\u001b[43mgroup_ids\u001b[49m\u001b[38;5;241;43m=\u001b[39;49m\u001b[43m[\u001b[49m\u001b[38;5;124;43m\"\u001b[39;49m\u001b[38;5;124;43mss_id\u001b[39;49m\u001b[38;5;124;43m\"\u001b[39;49m\u001b[43m]\u001b[49m\u001b[43m,\u001b[49m\u001b[43m  \u001b[49m\u001b[38;5;66;43;03m# Grouping by ss_id to identify different PV sites\u001b[39;49;00m\n\u001b[1;32m      6\u001b[0m \u001b[43m    \u001b[49m\u001b[43mmin_encoder_length\u001b[49m\u001b[38;5;241;43m=\u001b[39;49m\u001b[43mmax_encoder_length\u001b[49m\u001b[43m \u001b[49m\u001b[38;5;241;43m/\u001b[39;49m\u001b[38;5;241;43m/\u001b[39;49m\u001b[43m \u001b[49m\u001b[38;5;241;43m2\u001b[39;49m\u001b[43m,\u001b[49m\n\u001b[1;32m      7\u001b[0m \u001b[43m    \u001b[49m\u001b[43mmax_encoder_length\u001b[49m\u001b[38;5;241;43m=\u001b[39;49m\u001b[43mmax_encoder_length\u001b[49m\u001b[43m,\u001b[49m\n\u001b[1;32m      8\u001b[0m \u001b[43m    \u001b[49m\u001b[43mmin_prediction_length\u001b[49m\u001b[38;5;241;43m=\u001b[39;49m\u001b[38;5;241;43m1\u001b[39;49m\u001b[43m,\u001b[49m\n\u001b[1;32m      9\u001b[0m \u001b[43m    \u001b[49m\u001b[43mmax_prediction_length\u001b[49m\u001b[38;5;241;43m=\u001b[39;49m\u001b[43mmax_prediction_length\u001b[49m\u001b[43m,\u001b[49m\n\u001b[1;32m     10\u001b[0m \u001b[43m    \u001b[49m\u001b[43mstatic_categoricals\u001b[49m\u001b[38;5;241;43m=\u001b[39;49m\u001b[43m[\u001b[49m\u001b[38;5;124;43m\"\u001b[39;49m\u001b[38;5;124;43mss_id\u001b[39;49m\u001b[38;5;124;43m\"\u001b[39;49m\u001b[43m]\u001b[49m\u001b[43m,\u001b[49m\u001b[43m  \u001b[49m\u001b[38;5;66;43;03m# ss_id is static for each site\u001b[39;49;00m\n\u001b[1;32m     11\u001b[0m \u001b[43m    \u001b[49m\u001b[43mstatic_reals\u001b[49m\u001b[38;5;241;43m=\u001b[39;49m\u001b[43m[\u001b[49m\u001b[38;5;124;43m\"\u001b[39;49m\u001b[38;5;124;43mlat\u001b[39;49m\u001b[38;5;124;43m\"\u001b[39;49m\u001b[43m,\u001b[49m\u001b[43m \u001b[49m\u001b[38;5;124;43m\"\u001b[39;49m\u001b[38;5;124;43mlong\u001b[39;49m\u001b[38;5;124;43m\"\u001b[39;49m\u001b[43m,\u001b[49m\u001b[43m \u001b[49m\u001b[38;5;124;43m\"\u001b[39;49m\u001b[38;5;124;43mtilt\u001b[39;49m\u001b[38;5;124;43m\"\u001b[39;49m\u001b[43m,\u001b[49m\u001b[43m \u001b[49m\u001b[38;5;124;43m\"\u001b[39;49m\u001b[38;5;124;43morientation\u001b[39;49m\u001b[38;5;124;43m\"\u001b[39;49m\u001b[43m]\u001b[49m\u001b[43m,\u001b[49m\n\u001b[1;32m     12\u001b[0m \u001b[43m    \u001b[49m\u001b[43mtime_varying_known_categoricals\u001b[49m\u001b[38;5;241;43m=\u001b[39;49m\u001b[43m[\u001b[49m\u001b[38;5;124;43m\"\u001b[39;49m\u001b[38;5;124;43mday_of_week\u001b[39;49m\u001b[38;5;124;43m\"\u001b[39;49m\u001b[43m,\u001b[49m\u001b[43m \u001b[49m\u001b[38;5;124;43m\"\u001b[39;49m\u001b[38;5;124;43mmonth\u001b[39;49m\u001b[38;5;124;43m\"\u001b[39;49m\u001b[43m,\u001b[49m\u001b[43m \u001b[49m\u001b[38;5;124;43m\"\u001b[39;49m\u001b[38;5;124;43mhour\u001b[39;49m\u001b[38;5;124;43m\"\u001b[39;49m\u001b[43m]\u001b[49m\u001b[43m,\u001b[49m\n\u001b[1;32m     13\u001b[0m \u001b[43m    \u001b[49m\u001b[43mtime_varying_known_reals\u001b[49m\u001b[38;5;241;43m=\u001b[39;49m\u001b[43m[\u001b[49m\u001b[38;5;124;43m\"\u001b[39;49m\u001b[38;5;124;43mdlwrf\u001b[39;49m\u001b[38;5;124;43m\"\u001b[39;49m\u001b[43m,\u001b[49m\u001b[43m \u001b[49m\u001b[38;5;124;43m\"\u001b[39;49m\u001b[38;5;124;43mdswrf\u001b[39;49m\u001b[38;5;124;43m\"\u001b[39;49m\u001b[43m,\u001b[49m\u001b[43m \u001b[49m\u001b[38;5;124;43m\"\u001b[39;49m\u001b[38;5;124;43mduvrs\u001b[39;49m\u001b[38;5;124;43m\"\u001b[39;49m\u001b[43m,\u001b[49m\u001b[43m \u001b[49m\u001b[38;5;124;43m\"\u001b[39;49m\u001b[38;5;124;43mhcc\u001b[39;49m\u001b[38;5;124;43m\"\u001b[39;49m\u001b[43m,\u001b[49m\u001b[43m \u001b[49m\u001b[38;5;124;43m\"\u001b[39;49m\u001b[38;5;124;43mlcc\u001b[39;49m\u001b[38;5;124;43m\"\u001b[39;49m\u001b[43m,\u001b[49m\u001b[43m \u001b[49m\u001b[38;5;124;43m\"\u001b[39;49m\u001b[38;5;124;43mmcc\u001b[39;49m\u001b[38;5;124;43m\"\u001b[39;49m\u001b[43m,\u001b[49m\u001b[43m \u001b[49m\u001b[38;5;124;43m\"\u001b[39;49m\u001b[38;5;124;43msde\u001b[39;49m\u001b[38;5;124;43m\"\u001b[39;49m\u001b[43m,\u001b[49m\u001b[43m \u001b[49m\u001b[38;5;124;43m\"\u001b[39;49m\u001b[38;5;124;43msr\u001b[39;49m\u001b[38;5;124;43m\"\u001b[39;49m\u001b[43m,\u001b[49m\u001b[43m \u001b[49m\u001b[38;5;124;43m\"\u001b[39;49m\u001b[38;5;124;43mt2m\u001b[39;49m\u001b[38;5;124;43m\"\u001b[39;49m\u001b[43m,\u001b[49m\u001b[43m \u001b[49m\u001b[38;5;124;43m\"\u001b[39;49m\u001b[38;5;124;43mtcc\u001b[39;49m\u001b[38;5;124;43m\"\u001b[39;49m\u001b[43m,\u001b[49m\u001b[43m \u001b[49m\u001b[38;5;124;43m\"\u001b[39;49m\u001b[38;5;124;43mu10\u001b[39;49m\u001b[38;5;124;43m\"\u001b[39;49m\u001b[43m,\u001b[49m\u001b[43m \u001b[49m\u001b[38;5;124;43m\"\u001b[39;49m\u001b[38;5;124;43mu100\u001b[39;49m\u001b[38;5;124;43m\"\u001b[39;49m\u001b[43m,\u001b[49m\u001b[43m \u001b[49m\u001b[38;5;124;43m\"\u001b[39;49m\u001b[38;5;124;43mv10\u001b[39;49m\u001b[38;5;124;43m\"\u001b[39;49m\u001b[43m,\u001b[49m\u001b[43m \u001b[49m\u001b[38;5;124;43m\"\u001b[39;49m\u001b[38;5;124;43mv100\u001b[39;49m\u001b[38;5;124;43m\"\u001b[39;49m\u001b[43m]\u001b[49m\u001b[43m,\u001b[49m\n\u001b[1;32m     14\u001b[0m \u001b[43m    \u001b[49m\u001b[43mtime_varying_unknown_reals\u001b[49m\u001b[38;5;241;43m=\u001b[39;49m\u001b[43m[\u001b[49m\u001b[38;5;124;43m\"\u001b[39;49m\u001b[38;5;124;43mgeneration\u001b[39;49m\u001b[38;5;124;43m\"\u001b[39;49m\u001b[43m]\u001b[49m\u001b[43m,\u001b[49m\n\u001b[1;32m     15\u001b[0m \u001b[43m    \u001b[49m\u001b[43mtarget_normalizer\u001b[49m\u001b[38;5;241;43m=\u001b[39;49m\u001b[43mGroupNormalizer\u001b[49m\u001b[43m(\u001b[49m\u001b[43mgroups\u001b[49m\u001b[38;5;241;43m=\u001b[39;49m\u001b[43m[\u001b[49m\u001b[38;5;124;43m\"\u001b[39;49m\u001b[38;5;124;43mss_id\u001b[39;49m\u001b[38;5;124;43m\"\u001b[39;49m\u001b[43m]\u001b[49m\u001b[43m,\u001b[49m\u001b[43m \u001b[49m\u001b[43mtransformation\u001b[49m\u001b[38;5;241;43m=\u001b[39;49m\u001b[38;5;124;43m\"\u001b[39;49m\u001b[38;5;124;43msoftplus\u001b[39;49m\u001b[38;5;124;43m\"\u001b[39;49m\u001b[43m)\u001b[49m\u001b[43m,\u001b[49m\n\u001b[1;32m     16\u001b[0m \u001b[43m    \u001b[49m\u001b[43madd_relative_time_idx\u001b[49m\u001b[38;5;241;43m=\u001b[39;49m\u001b[38;5;28;43;01mTrue\u001b[39;49;00m\u001b[43m,\u001b[49m\n\u001b[1;32m     17\u001b[0m \u001b[43m    \u001b[49m\u001b[43madd_target_scales\u001b[49m\u001b[38;5;241;43m=\u001b[39;49m\u001b[38;5;28;43;01mTrue\u001b[39;49;00m\u001b[43m,\u001b[49m\n\u001b[1;32m     18\u001b[0m \u001b[43m    \u001b[49m\u001b[43madd_encoder_length\u001b[49m\u001b[38;5;241;43m=\u001b[39;49m\u001b[38;5;28;43;01mTrue\u001b[39;49;00m\u001b[43m,\u001b[49m\n\u001b[1;32m     19\u001b[0m \u001b[43m    \u001b[49m\u001b[43mallow_missing_timesteps\u001b[49m\u001b[38;5;241;43m=\u001b[39;49m\u001b[38;5;28;43;01mTrue\u001b[39;49;00m\u001b[43m,\u001b[49m\u001b[43m  \u001b[49m\u001b[38;5;66;43;03m# Allow missing timesteps\u001b[39;49;00m\n\u001b[1;32m     20\u001b[0m \u001b[43m)\u001b[49m\n",
      "File \u001b[0;32m~/miniforge3/lib/python3.10/site-packages/pytorch_forecasting/data/timeseries.py:481\u001b[0m, in \u001b[0;36mTimeSeriesDataSet.__init__\u001b[0;34m(self, data, time_idx, target, group_ids, weight, max_encoder_length, min_encoder_length, min_prediction_idx, min_prediction_length, max_prediction_length, static_categoricals, static_reals, time_varying_known_categoricals, time_varying_known_reals, time_varying_unknown_categoricals, time_varying_unknown_reals, variable_groups, constant_fill_strategy, allow_missing_timesteps, lags, add_relative_time_idx, add_target_scales, add_encoder_length, target_normalizer, categorical_encoders, scalers, randomize_length, predict_mode)\u001b[0m\n\u001b[1;32m    478\u001b[0m     \u001b[38;5;28;01massert\u001b[39;00m target \u001b[38;5;129;01mnot\u001b[39;00m \u001b[38;5;129;01min\u001b[39;00m \u001b[38;5;28mself\u001b[39m\u001b[38;5;241m.\u001b[39mscalers, \u001b[38;5;124m\"\u001b[39m\u001b[38;5;124mTarget normalizer is separate and not in scalers.\u001b[39m\u001b[38;5;124m\"\u001b[39m\n\u001b[1;32m    480\u001b[0m \u001b[38;5;66;03m# create index\u001b[39;00m\n\u001b[0;32m--> 481\u001b[0m \u001b[38;5;28mself\u001b[39m\u001b[38;5;241m.\u001b[39mindex \u001b[38;5;241m=\u001b[39m \u001b[38;5;28;43mself\u001b[39;49m\u001b[38;5;241;43m.\u001b[39;49m\u001b[43m_construct_index\u001b[49m\u001b[43m(\u001b[49m\u001b[43mdata\u001b[49m\u001b[43m,\u001b[49m\u001b[43m \u001b[49m\u001b[43mpredict_mode\u001b[49m\u001b[38;5;241;43m=\u001b[39;49m\u001b[38;5;28;43mself\u001b[39;49m\u001b[38;5;241;43m.\u001b[39;49m\u001b[43mpredict_mode\u001b[49m\u001b[43m)\u001b[49m\n\u001b[1;32m    483\u001b[0m \u001b[38;5;66;03m# convert to torch tensor for high performance data loading later\u001b[39;00m\n\u001b[1;32m    484\u001b[0m \u001b[38;5;28mself\u001b[39m\u001b[38;5;241m.\u001b[39mdata \u001b[38;5;241m=\u001b[39m \u001b[38;5;28mself\u001b[39m\u001b[38;5;241m.\u001b[39m_data_to_tensors(data)\n",
      "File \u001b[0;32m~/miniforge3/lib/python3.10/site-packages/pytorch_forecasting/data/timeseries.py:1290\u001b[0m, in \u001b[0;36mTimeSeriesDataSet._construct_index\u001b[0;34m(self, data, predict_mode)\u001b[0m\n\u001b[1;32m   1280\u001b[0m         missing_groups[\u001b[38;5;28mid\u001b[39m] \u001b[38;5;241m=\u001b[39m \u001b[38;5;28mself\u001b[39m\u001b[38;5;241m.\u001b[39mtransform_values(name, missing_groups[\u001b[38;5;28mid\u001b[39m], inverse\u001b[38;5;241m=\u001b[39m\u001b[38;5;28;01mTrue\u001b[39;00m, group_id\u001b[38;5;241m=\u001b[39m\u001b[38;5;28;01mTrue\u001b[39;00m)\n\u001b[1;32m   1281\u001b[0m     warnings\u001b[38;5;241m.\u001b[39mwarn(\n\u001b[1;32m   1282\u001b[0m         \u001b[38;5;124m\"\u001b[39m\u001b[38;5;124mMin encoder length and/or min_prediction_idx and/or min prediction length and/or lags are \u001b[39m\u001b[38;5;124m\"\u001b[39m\n\u001b[1;32m   1283\u001b[0m         \u001b[38;5;124m\"\u001b[39m\u001b[38;5;124mtoo large for \u001b[39m\u001b[38;5;124m\"\u001b[39m\n\u001b[0;32m   (...)\u001b[0m\n\u001b[1;32m   1287\u001b[0m         \u001b[38;5;167;01mUserWarning\u001b[39;00m,\n\u001b[1;32m   1288\u001b[0m     )\n\u001b[1;32m   1289\u001b[0m \u001b[38;5;28;01massert\u001b[39;00m (\n\u001b[0;32m-> 1290\u001b[0m     \u001b[38;5;28mlen\u001b[39m(df_index) \u001b[38;5;241m>\u001b[39m \u001b[38;5;241m0\u001b[39m\n\u001b[1;32m   1291\u001b[0m ), \u001b[38;5;124m\"\u001b[39m\u001b[38;5;124mfilters should not remove entries all entries - check encoder/decoder lengths and lags\u001b[39m\u001b[38;5;124m\"\u001b[39m\n\u001b[1;32m   1293\u001b[0m \u001b[38;5;28;01mreturn\u001b[39;00m df_index\n",
      "\u001b[0;31mAssertionError\u001b[0m: filters should not remove entries all entries - check encoder/decoder lengths and lags"
     ]
    }
   ],
   "source": [
    "training = TimeSeriesDataSet(\n",
    "    filtered_data[lambda x: x.pv_datetime <= training_cutoff],\n",
    "    time_idx=\"time_idx\",\n",
    "    target=\"generation\",\n",
    "    group_ids=[\"ss_id\"],  # Grouping by ss_id to identify different PV sites\n",
    "    min_encoder_length=max_encoder_length // 2,\n",
    "    max_encoder_length=max_encoder_length,\n",
    "    min_prediction_length=1,\n",
    "    max_prediction_length=max_prediction_length,\n",
    "    static_categoricals=[\"ss_id\"],  # ss_id is static for each site\n",
    "    static_reals=[\"lat\", \"long\", \"tilt\", \"orientation\"],\n",
    "    time_varying_known_categoricals=[\"day_of_week\", \"month\", \"hour\"],\n",
    "    time_varying_known_reals=[\"dlwrf\", \"dswrf\", \"duvrs\", \"hcc\", \"lcc\", \"mcc\", \"sde\", \"sr\", \"t2m\", \"tcc\", \"u10\", \"u100\", \"v10\", \"v100\"],\n",
    "    time_varying_unknown_reals=[\"generation\"],\n",
    "    target_normalizer=GroupNormalizer(groups=[\"ss_id\"], transformation=\"softplus\"),\n",
    "    add_relative_time_idx=True,\n",
    "    add_target_scales=True,\n",
    "    add_encoder_length=True,\n",
    "    allow_missing_timesteps=True,  # Allow missing timesteps\n",
    ")"
   ]
  },
  {
   "cell_type": "code",
   "execution_count": null,
   "metadata": {},
   "outputs": [],
   "source": []
  }
 ],
 "metadata": {
  "kernelspec": {
   "display_name": "base",
   "language": "python",
   "name": "python3"
  },
  "language_info": {
   "codemirror_mode": {
    "name": "ipython",
    "version": 3
   },
   "file_extension": ".py",
   "mimetype": "text/x-python",
   "name": "python",
   "nbconvert_exporter": "python",
   "pygments_lexer": "ipython3",
   "version": "3.10.14"
  }
 },
 "nbformat": 4,
 "nbformat_minor": 2
}
